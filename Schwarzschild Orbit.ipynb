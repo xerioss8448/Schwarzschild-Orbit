{
 "cells": [
  {
   "cell_type": "code",
   "execution_count": 1,
   "metadata": {},
   "outputs": [],
   "source": [
    "import numpy as np\n",
    "import matplotlib.pyplot as plt"
   ]
  },
  {
   "cell_type": "markdown",
   "metadata": {},
   "source": [
    "### $$\\frac{d^2u}{d \\theta ^2}=1-u+ \\frac{3G^2M^2}{L^2}u^2$$"
   ]
  },
  {
   "cell_type": "code",
   "execution_count": 2,
   "metadata": {},
   "outputs": [],
   "source": [
    "def f(t,u,G,M,L):\n",
    "    return 3*G**2*M**2/L**2*u**2-u+1"
   ]
  },
  {
   "cell_type": "code",
   "execution_count": 34,
   "metadata": {},
   "outputs": [],
   "source": [
    "'''\n",
    "N = 5*8000\n",
    "G = 1.0\n",
    "M = 0.2\n",
    "L = 1.0\n",
    "E = 10.0\n",
    "\n",
    "u0 = 0.5\n",
    "uh0 = 0.0\n",
    "theta0 = 0\n",
    "dtheta = 0.0008\n",
    "\n",
    "\n",
    "N = 5*8000\n",
    "G = 6.67e-11\n",
    "M = 1.99e+10\n",
    "L = 2.71e+15\n",
    "E = 2.71e+16\n",
    "\n",
    "u0 = 0.5\n",
    "uh0 = 0.0\n",
    "theta0 = 0\n",
    "dtheta = 0.0008\n",
    "'''\n",
    "\n",
    "N = 5*8000\n",
    "G = 6.67e-11\n",
    "M = 1.99e+25\n",
    "L = 2.71e+20\n",
    "E = 2.71e+16\n",
    "\n",
    "u0 = 0.5\n",
    "uh0 = 0.0\n",
    "theta0 = 0\n",
    "dtheta = 0.0008"
   ]
  },
  {
   "cell_type": "code",
   "execution_count": 35,
   "metadata": {},
   "outputs": [],
   "source": [
    "theta = theta0\n",
    "u = u0\n",
    "uh = uh0\n",
    "r = L**2/(G*M*u)\n",
    "x = r*np.cos(theta)\n",
    "y = r*np.sin(theta)\n",
    "t = 0"
   ]
  },
  {
   "cell_type": "code",
   "execution_count": 36,
   "metadata": {},
   "outputs": [],
   "source": [
    "X = []\n",
    "Y = []\n",
    "T = []"
   ]
  },
  {
   "cell_type": "markdown",
   "metadata": {},
   "source": [
    "### $$u=\\frac{L^2}{GMr}$$\n",
    "### $$d\\tau = \\frac{r^2}{L} d\\theta$$\n",
    "### $$dt = \\frac{E}{1-\\frac{2GM}{r}} d\\tau$$"
   ]
  },
  {
   "cell_type": "code",
   "execution_count": 37,
   "metadata": {},
   "outputs": [],
   "source": [
    "for i in range(1,N):\n",
    "    u_o = u\n",
    "    uh_o = uh\n",
    "    h = dtheta\n",
    "\n",
    "\n",
    "    uh_hat = uh_o + h*f(theta,u_o,G,M,L)\n",
    "    u = u_o + 0.5*h*(uh_o + uh_hat)\n",
    "\n",
    "    u_hat = u_o + h*uh_o\n",
    "    uh = uh_o + 0.5*h*(f(theta, u_o, G, M, L) + f(theta, u_hat, G, M, L))\n",
    "\n",
    "    r = L**2/(G*M*u)\n",
    "\n",
    "    d_tau = r**2 * dtheta / L\n",
    "    dt = E * d_tau / (1.0 - 2 * G * M / r)\n",
    "    t = t + dt\n",
    "\n",
    "    theta = theta + dtheta\n",
    "    x = r*np.cos(theta)\n",
    "    y = r*np.sin(theta)\n",
    "\n",
    "    X.append(x)\n",
    "    Y.append(y)\n",
    "    T.append(t)\n",
    "\n",
    "    #theta = theta + dtheta"
   ]
  },
  {
   "cell_type": "code",
   "execution_count": 38,
   "metadata": {},
   "outputs": [
    {
     "data": {
      "text/plain": [
       "[<matplotlib.lines.Line2D at 0x1f3b6c325f0>]"
      ]
     },
     "execution_count": 38,
     "metadata": {},
     "output_type": "execute_result"
    },
    {
     "data": {
      "image/png": "[encoded data removed]",
      "text/plain": [
       "<Figure size 640x480 with 1 Axes>"
      ]
     },
     "metadata": {},
     "output_type": "display_data"
    }
   ],
   "source": [
    "plt.scatter(0,0, c='r')\n",
    "plt.plot(X,Y)"
   ]
  },
  {
   "cell_type": "code",
   "execution_count": null,
   "metadata": {},
   "outputs": [],
   "source": []
  }
 ],
 "metadata": {
  "kernelspec": {
   "display_name": "Python 3",
   "language": "python",
   "name": "python3"
  },
  "language_info": {
   "codemirror_mode": {
    "name": "ipython",
    "version": 3
   },
   "file_extension": ".py",
   "mimetype": "text/x-python",
   "name": "python",
   "nbconvert_exporter": "python",
   "pygments_lexer": "ipython3",
   "version": "3.10.11"
  }
 },
 "nbformat": 4,
 "nbformat_minor": 2
}
